{
 "cells": [
  {
   "cell_type": "code",
   "execution_count": 5,
   "metadata": {},
   "outputs": [
    {
     "name": "stdout",
     "output_type": "stream",
     "text": [
      "57¨@¨ _^ =?¨¨7₢#\n"
     ]
    }
   ],
   "source": [
    "def cripto(frase) :\n",
    "    tradutor = \"\"\n",
    "    for letra in frase:\n",
    "        if letra in \"Aa\": tradutor = tradutor + \"@\"\n",
    "        elif letra in \"Bb\": tradutor = tradutor + \"%\"\n",
    "        elif letra in \"Cc\": tradutor = tradutor + \"!\"\n",
    "        elif letra in \"Dd\": tradutor = tradutor + \"*\"\n",
    "        elif letra in \"Ee\": tradutor = tradutor + \"?\"\n",
    "        elif letra in \"Ff\": tradutor = tradutor + \"/\"\n",
    "        elif letra in \"Ge\": tradutor = tradutor + \"+\"\n",
    "        elif letra in \"Hh\": tradutor = tradutor + \";\"\n",
    "        elif letra in \"Ii\": tradutor = tradutor + \"7\"\n",
    "        elif letra in \"Jj\": tradutor = tradutor + \"8\"\n",
    "        elif letra in \"Kk\": tradutor = tradutor + \"9\"\n",
    "        elif letra in \"Ll\": tradutor = tradutor + \"&\"\n",
    "        elif letra in \"Mm\": tradutor = tradutor + \"^\"\n",
    "        elif letra in \"Nn\": tradutor = tradutor + \"~\"\n",
    "        elif letra in \"Oo\": tradutor = tradutor + \"#\"\n",
    "        elif letra in \"Pp\": tradutor = tradutor + \"=\"\n",
    "        elif letra in \"Qq\": tradutor = tradutor + \"$\"\n",
    "        elif letra in \"Rr\": tradutor = tradutor + \"¨\"\n",
    "        elif letra in \"Ss\": tradutor = tradutor + \"0\"\n",
    "        elif letra in \"Tt\": tradutor = tradutor + \"₢\"\n",
    "        elif letra in \"Uu\": tradutor = tradutor + \"_\"\n",
    "        elif letra in \"Vv\": tradutor = tradutor + \"5\"\n",
    "        elif letra in \"Ww\": tradutor = tradutor + \"4\"\n",
    "        elif letra in \"Yy\": tradutor = tradutor + \"3\"\n",
    "        elif letra in \"Xx\": tradutor = tradutor + \"2\"\n",
    "        elif letra in \"Zz\": tradutor = tradutor + \"1\"\n",
    "        else: tradutor = tradutor + letra\n",
    "    return tradutor\n",
    "\n",
    "print(cripto(input(\"Digite sua frase: \")))"
   ]
  },
  {
   "cell_type": "code",
   "execution_count": 6,
   "metadata": {},
   "outputs": [
    {
     "name": "stdout",
     "output_type": "stream",
     "text": [
      "virar um perrito\n"
     ]
    }
   ],
   "source": [
    "def descripto(frase) :\n",
    "    tradutor = \"\"\n",
    "    for letra in frase:\n",
    "        if letra in \"@\": tradutor = tradutor + \"a\"\n",
    "        elif letra in \"%\": tradutor = tradutor + \"b\"\n",
    "        elif letra in \"!\": tradutor = tradutor + \"c\"\n",
    "        elif letra in \"*\": tradutor = tradutor + \"d\"\n",
    "        elif letra in \"?\": tradutor = tradutor + \"e\"\n",
    "        elif letra in \"/\": tradutor = tradutor + \"f\"\n",
    "        elif letra in \"+\": tradutor = tradutor + \"g\"\n",
    "        elif letra in \";\": tradutor = tradutor + \"h\"\n",
    "        elif letra in \"7\": tradutor = tradutor + \"i\"\n",
    "        elif letra in \"8\": tradutor = tradutor + \"j\"\n",
    "        elif letra in \"9\": tradutor = tradutor + \"k\"\n",
    "        elif letra in \"&\": tradutor = tradutor + \"l\"\n",
    "        elif letra in \"^\": tradutor = tradutor + \"m\"\n",
    "        elif letra in \"~\": tradutor = tradutor + \"n\"\n",
    "        elif letra in \"#\": tradutor = tradutor + \"o\"\n",
    "        elif letra in \"=\": tradutor = tradutor + \"p\"\n",
    "        elif letra in \"$\": tradutor = tradutor + \"q\"\n",
    "        elif letra in \"¨\": tradutor = tradutor + \"r\"\n",
    "        elif letra in \"0\": tradutor = tradutor + \"s\"\n",
    "        elif letra in \"₢\": tradutor = tradutor + \"t\"\n",
    "        elif letra in \"_\": tradutor = tradutor + \"u\"\n",
    "        elif letra in \"5\": tradutor = tradutor + \"v\"\n",
    "        elif letra in \"4\": tradutor = tradutor + \"w\"\n",
    "        elif letra in \"3\": tradutor = tradutor + \"y\"\n",
    "        elif letra in \"2\": tradutor = tradutor + \"x\"\n",
    "        elif letra in \"1\": tradutor = tradutor + \"z\"\n",
    "        else: tradutor = tradutor + letra\n",
    "    return tradutor\n",
    "\n",
    "print(descripto(input(\"Digite sua Criptografada: \")))"
   ]
  }
 ],
 "metadata": {
  "kernelspec": {
   "display_name": "Python 3.10.2 64-bit",
   "language": "python",
   "name": "python3"
  },
  "language_info": {
   "codemirror_mode": {
    "name": "ipython",
    "version": 3
   },
   "file_extension": ".py",
   "mimetype": "text/x-python",
   "name": "python",
   "nbconvert_exporter": "python",
   "pygments_lexer": "ipython3",
   "version": "3.10.2"
  },
  "orig_nbformat": 4,
  "vscode": {
   "interpreter": {
    "hash": "9e6b67f0de49d344d4c13f05e88c093db00848af1c37be34556d75ad4b6d99e4"
   }
  }
 },
 "nbformat": 4,
 "nbformat_minor": 2
}
